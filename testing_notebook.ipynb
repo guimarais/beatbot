{
 "cells": [
  {
   "cell_type": "code",
   "execution_count": 6,
   "id": "80bed56c-e7ac-47d2-af9c-b99f69ffb02e",
   "metadata": {},
   "outputs": [
    {
     "name": "stdout",
     "output_type": "stream",
     "text": [
      "Successful Authentication\n"
     ]
    }
   ],
   "source": [
    "import tweepy\n",
    "import os\n",
    "import time\n",
    "\n",
    "api_key = os.getenv(\"TWITTER_API_KEY\")\n",
    "api_key_secret = os.getenv(\"TWITTER_API_KEY_SECRET\")\n",
    "access_token = os.getenv(\"TWITTER_ACCESS_TOKEN\")\n",
    "access_token_secret = os.getenv(\"TWITTER_ACCESS_TOKEN_SECRET\")\n",
    "\n",
    "def twitter_api():\n",
    "    auth = tweepy.OAuthHandler(api_key, api_key_secret)\n",
    "    auth.set_access_token(access_token, access_token_secret)\n",
    "\n",
    "    # Create API object\n",
    "    api = tweepy.API(auth)#, wait_on_rate_limit=True,wait_on_rate_limit_notify=True)\n",
    "\n",
    "    return api\n",
    "\n",
    "api = twitter_api()\n",
    "\n",
    " \n",
    "try:\n",
    "    api.verify_credentials()\n",
    "    print('Successful Authentication')\n",
    "except:\n",
    "    print('Failed authentication')"
   ]
  },
  {
   "cell_type": "code",
   "execution_count": 9,
   "id": "fc078856-61fb-425c-85b7-f88699d51283",
   "metadata": {},
   "outputs": [],
   "source": [
    "acc = ['@LuisGuimarais', '@Rob_DeSchutter']\n",
    "\n",
    "for name in acc:\n",
    "    go_out = f'{name}, it works'\n",
    "    \n",
    "    api.update_status(go_out)\n",
    "    #time.sleep(1)\n"
   ]
  },
  {
   "cell_type": "markdown",
   "id": "f99038d6-c834-402a-a42f-f5b0d0639644",
   "metadata": {},
   "source": [
    "### Testing craiyon images"
   ]
  },
  {
   "cell_type": "code",
   "execution_count": 4,
   "id": "b3d9f0a3-85c2-4aed-927f-1e4b64d33e2e",
   "metadata": {},
   "outputs": [],
   "source": [
    "from craiyon import Craiyon ## Still buggy"
   ]
  },
  {
   "cell_type": "code",
   "execution_count": 7,
   "id": "a1821387-5ca1-4cd2-93ac-804a4add78a0",
   "metadata": {},
   "outputs": [],
   "source": [
    "from old_craiyon import image_craiyon"
   ]
  },
  {
   "cell_type": "code",
   "execution_count": 6,
   "id": "1da2c2a2-b0b7-4895-889f-1dfbabd6c11b",
   "metadata": {},
   "outputs": [
    {
     "ename": "FileNotFoundError",
     "evalue": "[Errno 2] No such file or directory: '/home/guimas/Documents/beatbot/output/creation-1.png'",
     "output_type": "error",
     "traceback": [
      "\u001b[0;31m---------------------------------------------------------------------------\u001b[0m",
      "\u001b[0;31mFileNotFoundError\u001b[0m                         Traceback (most recent call last)",
      "\u001b[0;32m/tmp/ipykernel_68203/1994661250.py\u001b[0m in \u001b[0;36m<module>\u001b[0;34m\u001b[0m\n\u001b[0;32m----> 1\u001b[0;31m \u001b[0mimage_craiyon\u001b[0m\u001b[0;34m(\u001b[0m\u001b[0;34m\"A happy duck\"\u001b[0m\u001b[0;34m)\u001b[0m\u001b[0;34m\u001b[0m\u001b[0;34m\u001b[0m\u001b[0m\n\u001b[0m",
      "\u001b[0;32m~/Documents/Software/beatbot/old_craiyon.py\u001b[0m in \u001b[0;36mimage_craiyon\u001b[0;34m(prompt, extension)\u001b[0m\n\u001b[1;32m     52\u001b[0m         \u001b[0mfileName\u001b[0m \u001b[0;34m=\u001b[0m \u001b[0mnewPrompt\u001b[0m \u001b[0;34m+\u001b[0m \u001b[0;34mf\"-{i}.{fileFormat}\"\u001b[0m\u001b[0;34m\u001b[0m\u001b[0;34m\u001b[0m\u001b[0m\n\u001b[1;32m     53\u001b[0m         \u001b[0moutput\u001b[0m \u001b[0;34m=\u001b[0m \u001b[0;34m\"/home/guimas/Documents/beatbot/output/\"\u001b[0m \u001b[0;34m+\u001b[0m \u001b[0mfileName\u001b[0m\u001b[0;34m\u001b[0m\u001b[0;34m\u001b[0m\u001b[0m\n\u001b[0;32m---> 54\u001b[0;31m         \u001b[0mim\u001b[0m\u001b[0;34m.\u001b[0m\u001b[0msave\u001b[0m\u001b[0;34m(\u001b[0m\u001b[0moutput\u001b[0m\u001b[0;34m)\u001b[0m\u001b[0;34m\u001b[0m\u001b[0;34m\u001b[0m\u001b[0m\n\u001b[0m\u001b[1;32m     55\u001b[0m \u001b[0;34m\u001b[0m\u001b[0m\n\u001b[1;32m     56\u001b[0m     \u001b[0;32mreturn\u001b[0m \u001b[0moutput\u001b[0m\u001b[0;34m\u001b[0m\u001b[0;34m\u001b[0m\u001b[0m\n",
      "\u001b[0;32m~/miniconda3/envs/adpro/lib/python3.10/site-packages/PIL/Image.py\u001b[0m in \u001b[0;36msave\u001b[0;34m(self, fp, format, **params)\u001b[0m\n\u001b[1;32m   2235\u001b[0m                 \u001b[0mfp\u001b[0m \u001b[0;34m=\u001b[0m \u001b[0mbuiltins\u001b[0m\u001b[0;34m.\u001b[0m\u001b[0mopen\u001b[0m\u001b[0;34m(\u001b[0m\u001b[0mfilename\u001b[0m\u001b[0;34m,\u001b[0m \u001b[0;34m\"r+b\"\u001b[0m\u001b[0;34m)\u001b[0m\u001b[0;34m\u001b[0m\u001b[0;34m\u001b[0m\u001b[0m\n\u001b[1;32m   2236\u001b[0m             \u001b[0;32melse\u001b[0m\u001b[0;34m:\u001b[0m\u001b[0;34m\u001b[0m\u001b[0;34m\u001b[0m\u001b[0m\n\u001b[0;32m-> 2237\u001b[0;31m                 \u001b[0mfp\u001b[0m \u001b[0;34m=\u001b[0m \u001b[0mbuiltins\u001b[0m\u001b[0;34m.\u001b[0m\u001b[0mopen\u001b[0m\u001b[0;34m(\u001b[0m\u001b[0mfilename\u001b[0m\u001b[0;34m,\u001b[0m \u001b[0;34m\"w+b\"\u001b[0m\u001b[0;34m)\u001b[0m\u001b[0;34m\u001b[0m\u001b[0;34m\u001b[0m\u001b[0m\n\u001b[0m\u001b[1;32m   2238\u001b[0m \u001b[0;34m\u001b[0m\u001b[0m\n\u001b[1;32m   2239\u001b[0m         \u001b[0;32mtry\u001b[0m\u001b[0;34m:\u001b[0m\u001b[0;34m\u001b[0m\u001b[0;34m\u001b[0m\u001b[0m\n",
      "\u001b[0;31mFileNotFoundError\u001b[0m: [Errno 2] No such file or directory: '/home/guimas/Documents/beatbot/output/creation-1.png'"
     ]
    }
   ],
   "source": [
    "image_craiyon(\"A happy duck\")"
   ]
  },
  {
   "cell_type": "code",
   "execution_count": null,
   "id": "0d59754c-1f90-4853-8b3b-5a0a82e55538",
   "metadata": {},
   "outputs": [],
   "source": [
    "### "
   ]
  }
 ],
 "metadata": {
  "kernelspec": {
   "display_name": "Python 3 (ipykernel)",
   "language": "python",
   "name": "python3"
  },
  "language_info": {
   "codemirror_mode": {
    "name": "ipython",
    "version": 3
   },
   "file_extension": ".py",
   "mimetype": "text/x-python",
   "name": "python",
   "nbconvert_exporter": "python",
   "pygments_lexer": "ipython3",
   "version": "3.10.2"
  }
 },
 "nbformat": 4,
 "nbformat_minor": 5
}
